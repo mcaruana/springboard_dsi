{
 "cells": [
  {
   "cell_type": "code",
   "execution_count": 3,
   "metadata": {
    "collapsed": false
   },
   "outputs": [],
   "source": [
    "%matplotlib inline\n",
    "import pandas as pd\n",
    "import os"
   ]
  },
  {
   "cell_type": "code",
   "execution_count": 4,
   "metadata": {
    "collapsed": false
   },
   "outputs": [
    {
     "data": {
      "text/plain": [
       "'/Users/michaelcaruana'"
      ]
     },
     "execution_count": 4,
     "metadata": {},
     "output_type": "execute_result"
    }
   ],
   "source": [
    "os.getcwd()"
   ]
  },
  {
   "cell_type": "code",
   "execution_count": 5,
   "metadata": {
    "collapsed": true
   },
   "outputs": [],
   "source": [
    "os.chdir('/Users/michaelcaruana/Desktop/pycon-pandas-tutorial')"
   ]
  },
  {
   "cell_type": "code",
   "execution_count": 6,
   "metadata": {
    "collapsed": false
   },
   "outputs": [
    {
     "data": {
      "text/html": [
       "<style>body {\n",
       "    margin: 0;\n",
       "    font-family: Helvetica;\n",
       "}\n",
       "table.dataframe {\n",
       "    border-collapse: collapse;\n",
       "    border: none;\n",
       "}\n",
       "table.dataframe tr {\n",
       "    border: none;\n",
       "}\n",
       "table.dataframe td, table.dataframe th {\n",
       "    margin: 0;\n",
       "    border: 1px solid white;\n",
       "    padding-left: 0.25em;\n",
       "    padding-right: 0.25em;\n",
       "}\n",
       "table.dataframe th:not(:empty) {\n",
       "    background-color: #fec;\n",
       "    text-align: left;\n",
       "    font-weight: normal;\n",
       "}\n",
       "table.dataframe tr:nth-child(2) th:empty {\n",
       "    border-left: none;\n",
       "    border-right: 1px dashed #888;\n",
       "}\n",
       "table.dataframe td {\n",
       "    border: 2px solid #ccf;\n",
       "    background-color: #f4f4ff;\n",
       "}\n",
       "h3 {\n",
       "    color: white;\n",
       "    background-color: black;\n",
       "    padding: 0.5em;\n",
       "}\n",
       "</style>"
      ],
      "text/plain": [
       "<IPython.core.display.HTML object>"
      ]
     },
     "execution_count": 6,
     "metadata": {},
     "output_type": "execute_result"
    }
   ],
   "source": [
    "from IPython.core.display import HTML\n",
    "css = open('style-table.css').read() + open('style-notebook.css').read()\n",
    "HTML('<style>{}</style>'.format(css))"
   ]
  },
  {
   "cell_type": "code",
   "execution_count": 10,
   "metadata": {
    "collapsed": false
   },
   "outputs": [
    {
     "data": {
      "text/html": [
       "<div>\n",
       "<table border=\"1\" class=\"dataframe\">\n",
       "  <thead>\n",
       "    <tr style=\"text-align: right;\">\n",
       "      <th></th>\n",
       "      <th>title</th>\n",
       "      <th>year</th>\n",
       "    </tr>\n",
       "  </thead>\n",
       "  <tbody>\n",
       "    <tr>\n",
       "      <th>0</th>\n",
       "      <td>Fuera de la ley</td>\n",
       "      <td>1937</td>\n",
       "    </tr>\n",
       "    <tr>\n",
       "      <th>1</th>\n",
       "      <td>Element</td>\n",
       "      <td>2016</td>\n",
       "    </tr>\n",
       "    <tr>\n",
       "      <th>2</th>\n",
       "      <td>Jeomjaengyideul</td>\n",
       "      <td>2012</td>\n",
       "    </tr>\n",
       "    <tr>\n",
       "      <th>3</th>\n",
       "      <td>An kubo sa kawayanan</td>\n",
       "      <td>2015</td>\n",
       "    </tr>\n",
       "    <tr>\n",
       "      <th>4</th>\n",
       "      <td>Hirer Angti</td>\n",
       "      <td>1992</td>\n",
       "    </tr>\n",
       "  </tbody>\n",
       "</table>\n",
       "</div>"
      ],
      "text/plain": [
       "                  title  year\n",
       "0       Fuera de la ley  1937\n",
       "1               Element  2016\n",
       "2       Jeomjaengyideul  2012\n",
       "3  An kubo sa kawayanan  2015\n",
       "4           Hirer Angti  1992"
      ]
     },
     "execution_count": 10,
     "metadata": {},
     "output_type": "execute_result"
    }
   ],
   "source": [
    "titles = pd.DataFrame.from_csv('data/titles.csv', index_col=None)\n",
    "titles.head()"
   ]
  },
  {
   "cell_type": "code",
   "execution_count": 8,
   "metadata": {
    "collapsed": false
   },
   "outputs": [
    {
     "data": {
      "text/html": [
       "<div>\n",
       "<table border=\"1\" class=\"dataframe\">\n",
       "  <thead>\n",
       "    <tr style=\"text-align: right;\">\n",
       "      <th></th>\n",
       "      <th>title</th>\n",
       "      <th>year</th>\n",
       "      <th>name</th>\n",
       "      <th>type</th>\n",
       "      <th>character</th>\n",
       "      <th>n</th>\n",
       "    </tr>\n",
       "  </thead>\n",
       "  <tbody>\n",
       "    <tr>\n",
       "      <th>0</th>\n",
       "      <td>Suuri illusioni</td>\n",
       "      <td>1985</td>\n",
       "      <td>Homo $</td>\n",
       "      <td>actor</td>\n",
       "      <td>Guests</td>\n",
       "      <td>22</td>\n",
       "    </tr>\n",
       "    <tr>\n",
       "      <th>1</th>\n",
       "      <td>Gangsta Rap: The Glockumentary</td>\n",
       "      <td>2007</td>\n",
       "      <td>Too $hort</td>\n",
       "      <td>actor</td>\n",
       "      <td>Himself</td>\n",
       "      <td>NaN</td>\n",
       "    </tr>\n",
       "    <tr>\n",
       "      <th>2</th>\n",
       "      <td>Menace II Society</td>\n",
       "      <td>1993</td>\n",
       "      <td>Too $hort</td>\n",
       "      <td>actor</td>\n",
       "      <td>Lew-Loc</td>\n",
       "      <td>27</td>\n",
       "    </tr>\n",
       "    <tr>\n",
       "      <th>3</th>\n",
       "      <td>Porndogs: The Adventures of Sadie</td>\n",
       "      <td>2009</td>\n",
       "      <td>Too $hort</td>\n",
       "      <td>actor</td>\n",
       "      <td>Bosco</td>\n",
       "      <td>3</td>\n",
       "    </tr>\n",
       "    <tr>\n",
       "      <th>4</th>\n",
       "      <td>Stop Pepper Palmer</td>\n",
       "      <td>2014</td>\n",
       "      <td>Too $hort</td>\n",
       "      <td>actor</td>\n",
       "      <td>Himself</td>\n",
       "      <td>NaN</td>\n",
       "    </tr>\n",
       "  </tbody>\n",
       "</table>\n",
       "</div>"
      ],
      "text/plain": [
       "                               title  year       name   type character   n\n",
       "0                    Suuri illusioni  1985     Homo $  actor    Guests  22\n",
       "1     Gangsta Rap: The Glockumentary  2007  Too $hort  actor   Himself NaN\n",
       "2                  Menace II Society  1993  Too $hort  actor   Lew-Loc  27\n",
       "3  Porndogs: The Adventures of Sadie  2009  Too $hort  actor     Bosco   3\n",
       "4                 Stop Pepper Palmer  2014  Too $hort  actor   Himself NaN"
      ]
     },
     "execution_count": 8,
     "metadata": {},
     "output_type": "execute_result"
    }
   ],
   "source": [
    "cast = pd.DataFrame.from_csv('data/cast.csv', index_col=None)\n",
    "cast.head()"
   ]
  },
  {
   "cell_type": "markdown",
   "metadata": {
    "collapsed": true
   },
   "source": [
    "### How many movies are listed in the titles dataframe?"
   ]
  },
  {
   "cell_type": "code",
   "execution_count": 18,
   "metadata": {
    "collapsed": false
   },
   "outputs": [
    {
     "data": {
      "text/plain": [
       "(217757, 2)"
      ]
     },
     "execution_count": 18,
     "metadata": {},
     "output_type": "execute_result"
    }
   ],
   "source": [
    "#Number of movies represented by number of columns. \n",
    "titles_dedupe = titles.drop_duplicates()\n",
    "titles_dedupe.shape"
   ]
  },
  {
   "cell_type": "markdown",
   "metadata": {},
   "source": [
    "217,757 movies."
   ]
  },
  {
   "cell_type": "markdown",
   "metadata": {
    "collapsed": true
   },
   "source": [
    "### What are the earliest two films listed in the titles dataframe?"
   ]
  },
  {
   "cell_type": "code",
   "execution_count": 27,
   "metadata": {
    "collapsed": false
   },
   "outputs": [
    {
     "data": {
      "text/html": [
       "<div>\n",
       "<table border=\"1\" class=\"dataframe\">\n",
       "  <thead>\n",
       "    <tr style=\"text-align: right;\">\n",
       "      <th></th>\n",
       "      <th>title</th>\n",
       "      <th>year</th>\n",
       "    </tr>\n",
       "  </thead>\n",
       "  <tbody>\n",
       "    <tr>\n",
       "      <th>67571</th>\n",
       "      <td>Miss Jerry</td>\n",
       "      <td>1894</td>\n",
       "    </tr>\n",
       "    <tr>\n",
       "      <th>47876</th>\n",
       "      <td>Reproduction of the Corbett and Jeffries Fight</td>\n",
       "      <td>1899</td>\n",
       "    </tr>\n",
       "    <tr>\n",
       "      <th>77875</th>\n",
       "      <td>Pierrot's Problem, or How to Make a Fat Wife O...</td>\n",
       "      <td>1900</td>\n",
       "    </tr>\n",
       "    <tr>\n",
       "      <th>172960</th>\n",
       "      <td>Trouble in Hogan's Alley</td>\n",
       "      <td>1900</td>\n",
       "    </tr>\n",
       "    <tr>\n",
       "      <th>39596</th>\n",
       "      <td>Soldiers of the Cross</td>\n",
       "      <td>1900</td>\n",
       "    </tr>\n",
       "  </tbody>\n",
       "</table>\n",
       "</div>"
      ],
      "text/plain": [
       "                                                    title  year\n",
       "67571                                          Miss Jerry  1894\n",
       "47876      Reproduction of the Corbett and Jeffries Fight  1899\n",
       "77875   Pierrot's Problem, or How to Make a Fat Wife O...  1900\n",
       "172960                           Trouble in Hogan's Alley  1900\n",
       "39596                               Soldiers of the Cross  1900"
      ]
     },
     "execution_count": 27,
     "metadata": {},
     "output_type": "execute_result"
    }
   ],
   "source": [
    "titles_sorted = titles_dedupe.sort(['year'],ascending = True)\n",
    "titles_sorted.head()"
   ]
  },
  {
   "cell_type": "markdown",
   "metadata": {
    "collapsed": true
   },
   "source": [
    "Miss Jerry and Reproduction of Corbett adn Jeffries Fight are the first two movies"
   ]
  },
  {
   "cell_type": "markdown",
   "metadata": {
    "collapsed": true
   },
   "source": [
    "### How many movies have the title \"Hamlet\"?"
   ]
  },
  {
   "cell_type": "code",
   "execution_count": 29,
   "metadata": {
    "collapsed": false
   },
   "outputs": [
    {
     "data": {
      "text/plain": [
       "(19, 2)"
      ]
     },
     "execution_count": 29,
     "metadata": {},
     "output_type": "execute_result"
    }
   ],
   "source": [
    "hamlets = titles_dedupe[titles_dedupe.title == 'Hamlet']\n",
    "hamlets.shape"
   ]
  },
  {
   "cell_type": "markdown",
   "metadata": {
    "collapsed": true
   },
   "source": [
    "19 movies have the title \"Hamlet\""
   ]
  },
  {
   "cell_type": "markdown",
   "metadata": {
    "collapsed": true
   },
   "source": [
    "### How many movies are titled \"North by Northwest\"?"
   ]
  },
  {
   "cell_type": "code",
   "execution_count": 30,
   "metadata": {
    "collapsed": false
   },
   "outputs": [
    {
     "data": {
      "text/plain": [
       "(1, 2)"
      ]
     },
     "execution_count": 30,
     "metadata": {},
     "output_type": "execute_result"
    }
   ],
   "source": [
    "n_by_nw = titles_dedupe[titles_dedupe.title == 'North by Northwest']\n",
    "n_by_nw.shape"
   ]
  },
  {
   "cell_type": "markdown",
   "metadata": {
    "collapsed": true
   },
   "source": [
    "1 movie has the title \"North by Northwest\""
   ]
  },
  {
   "cell_type": "markdown",
   "metadata": {
    "collapsed": true
   },
   "source": [
    "### When was the first movie titled \"Hamlet\" made?"
   ]
  },
  {
   "cell_type": "code",
   "execution_count": 31,
   "metadata": {
    "collapsed": false
   },
   "outputs": [
    {
     "data": {
      "text/plain": [
       "1910"
      ]
     },
     "execution_count": 31,
     "metadata": {},
     "output_type": "execute_result"
    }
   ],
   "source": [
    "hamlets.year.min()"
   ]
  },
  {
   "cell_type": "markdown",
   "metadata": {
    "collapsed": true
   },
   "source": [
    "1910 was when the first movie titled \"Hamlet\" was made."
   ]
  },
  {
   "cell_type": "markdown",
   "metadata": {
    "collapsed": true
   },
   "source": [
    "### List all of the \"Treasure Island\" movies from earliest to most recent."
   ]
  },
  {
   "cell_type": "code",
   "execution_count": 32,
   "metadata": {
    "collapsed": false
   },
   "outputs": [
    {
     "data": {
      "text/plain": [
       "array([1918, 1920, 1934, 1950, 1972, 1973, 1985, 1999])"
      ]
     },
     "execution_count": 32,
     "metadata": {},
     "output_type": "execute_result"
    }
   ],
   "source": [
    "treasure_island = titles_dedupe[titles_dedupe.title == 'Treasure Island'].sort('year',ascending=True)\n",
    "treasure_island.year.unique()"
   ]
  },
  {
   "cell_type": "markdown",
   "metadata": {
    "collapsed": true
   },
   "source": [
    "### How many movies were made in the year 1950?"
   ]
  },
  {
   "cell_type": "code",
   "execution_count": 34,
   "metadata": {
    "collapsed": false
   },
   "outputs": [
    {
     "data": {
      "text/plain": [
       "(1037, 2)"
      ]
     },
     "execution_count": 34,
     "metadata": {},
     "output_type": "execute_result"
    }
   ],
   "source": [
    "nineteenfifty = titles_dedupe[titles_dedupe.year == 1950]\n",
    "nineteenfifty.shape"
   ]
  },
  {
   "cell_type": "code",
   "execution_count": 36,
   "metadata": {
    "collapsed": false
   },
   "outputs": [
    {
     "data": {
      "text/plain": [
       "array([1950])"
      ]
     },
     "execution_count": 36,
     "metadata": {},
     "output_type": "execute_result"
    }
   ],
   "source": [
    "nineteenfifty.year.unique()"
   ]
  },
  {
   "cell_type": "markdown",
   "metadata": {
    "collapsed": true
   },
   "source": [
    "1,037 movies were made in 1950"
   ]
  },
  {
   "cell_type": "markdown",
   "metadata": {
    "collapsed": true
   },
   "source": [
    "### How many movies were made in the year 1960?"
   ]
  },
  {
   "cell_type": "code",
   "execution_count": 38,
   "metadata": {
    "collapsed": false
   },
   "outputs": [
    {
     "data": {
      "text/plain": [
       "(1478, 2)"
      ]
     },
     "execution_count": 38,
     "metadata": {},
     "output_type": "execute_result"
    }
   ],
   "source": [
    "nineteensixty = titles_dedupe[titles_dedupe.year == 1960]\n",
    "nineteensixty.shape"
   ]
  },
  {
   "cell_type": "markdown",
   "metadata": {
    "collapsed": true
   },
   "source": [
    "1,478 movies were made in 1960"
   ]
  },
  {
   "cell_type": "markdown",
   "metadata": {
    "collapsed": true
   },
   "source": [
    "### How many movies were made from 1950 through 1959?"
   ]
  },
  {
   "cell_type": "code",
   "execution_count": 40,
   "metadata": {
    "collapsed": false
   },
   "outputs": [
    {
     "data": {
      "text/plain": [
       "(12207, 2)"
      ]
     },
     "execution_count": 40,
     "metadata": {},
     "output_type": "execute_result"
    }
   ],
   "source": [
    "fifties = titles_dedupe[(titles_dedupe.year >= 1950) & (titles_dedupe.year <= 1959)]\n",
    "fifties.shape"
   ]
  },
  {
   "cell_type": "markdown",
   "metadata": {
    "collapsed": true
   },
   "source": [
    "12,207 movies were made from 1950 through 1959."
   ]
  },
  {
   "cell_type": "markdown",
   "metadata": {
    "collapsed": true
   },
   "source": [
    "### In what years has a movie titled \"Batman\" been released?"
   ]
  },
  {
   "cell_type": "code",
   "execution_count": 43,
   "metadata": {
    "collapsed": false
   },
   "outputs": [
    {
     "data": {
      "text/plain": [
       "array([1943, 1989])"
      ]
     },
     "execution_count": 43,
     "metadata": {},
     "output_type": "execute_result"
    }
   ],
   "source": [
    "batman = titles_dedupe[titles_dedupe.title == 'Batman']\n",
    "batman.year.unique()"
   ]
  },
  {
   "cell_type": "markdown",
   "metadata": {
    "collapsed": true
   },
   "source": [
    "### How many roles were there in the movie \"Inception\"?"
   ]
  },
  {
   "cell_type": "code",
   "execution_count": 44,
   "metadata": {
    "collapsed": false
   },
   "outputs": [
    {
     "data": {
      "text/plain": [
       "76"
      ]
     },
     "execution_count": 44,
     "metadata": {},
     "output_type": "execute_result"
    }
   ],
   "source": [
    "inception = cast[cast.title == 'Inception']\n",
    "len(inception)"
   ]
  },
  {
   "cell_type": "code",
   "execution_count": 45,
   "metadata": {
    "collapsed": false
   },
   "outputs": [
    {
     "data": {
      "text/plain": [
       "76"
      ]
     },
     "execution_count": 45,
     "metadata": {},
     "output_type": "execute_result"
    }
   ],
   "source": [
    "len(cast[cast.title == 'Inception'])"
   ]
  },
  {
   "cell_type": "markdown",
   "metadata": {
    "collapsed": true
   },
   "source": [
    "### How many roles in the movie \"Inception\" are NOT ranked by an \"n\" value?"
   ]
  },
  {
   "cell_type": "code",
   "execution_count": 52,
   "metadata": {
    "collapsed": false
   },
   "outputs": [
    {
     "data": {
      "text/plain": [
       "25"
      ]
     },
     "execution_count": 52,
     "metadata": {},
     "output_type": "execute_result"
    }
   ],
   "source": [
    "len(inception[inception.n.isnull()])"
   ]
  },
  {
   "cell_type": "markdown",
   "metadata": {
    "collapsed": true
   },
   "source": [
    "### But how many roles in the movie \"Inception\" did receive an \"n\" value?"
   ]
  },
  {
   "cell_type": "code",
   "execution_count": 53,
   "metadata": {
    "collapsed": false
   },
   "outputs": [
    {
     "data": {
      "text/plain": [
       "51"
      ]
     },
     "execution_count": 53,
     "metadata": {},
     "output_type": "execute_result"
    }
   ],
   "source": [
    "len(inception[inception.n.notnull()])"
   ]
  },
  {
   "cell_type": "markdown",
   "metadata": {
    "collapsed": true
   },
   "source": [
    "### Display the cast of \"North by Northwest\" in their correct \"n\"-value order, ignoring roles that did not earn a numeric \"n\" value."
   ]
  },
  {
   "cell_type": "code",
   "execution_count": 58,
   "metadata": {
    "collapsed": false
   },
   "outputs": [
    {
     "data": {
      "text/plain": [
       "(16, 6)"
      ]
     },
     "execution_count": 58,
     "metadata": {},
     "output_type": "execute_result"
    }
   ],
   "source": [
    "nbn_n = cast[(cast.title == 'North by Northwest') & (cast.n.notnull())].sort('n',ascending = True)\n",
    "nbn_n.shape"
   ]
  },
  {
   "cell_type": "code",
   "execution_count": 59,
   "metadata": {
    "collapsed": false
   },
   "outputs": [
    {
     "data": {
      "text/html": [
       "<div>\n",
       "<table border=\"1\" class=\"dataframe\">\n",
       "  <thead>\n",
       "    <tr style=\"text-align: right;\">\n",
       "      <th></th>\n",
       "      <th>title</th>\n",
       "      <th>year</th>\n",
       "      <th>name</th>\n",
       "      <th>type</th>\n",
       "      <th>character</th>\n",
       "      <th>n</th>\n",
       "    </tr>\n",
       "  </thead>\n",
       "  <tbody>\n",
       "    <tr>\n",
       "      <th>793576</th>\n",
       "      <td>North by Northwest</td>\n",
       "      <td>1959</td>\n",
       "      <td>Cary Grant</td>\n",
       "      <td>actor</td>\n",
       "      <td>Roger O. Thornhill</td>\n",
       "      <td>1</td>\n",
       "    </tr>\n",
       "    <tr>\n",
       "      <th>3166924</th>\n",
       "      <td>North by Northwest</td>\n",
       "      <td>1959</td>\n",
       "      <td>Eva Marie Saint</td>\n",
       "      <td>actress</td>\n",
       "      <td>Eve Kendall</td>\n",
       "      <td>2</td>\n",
       "    </tr>\n",
       "    <tr>\n",
       "      <th>1326397</th>\n",
       "      <td>North by Northwest</td>\n",
       "      <td>1959</td>\n",
       "      <td>James Mason</td>\n",
       "      <td>actor</td>\n",
       "      <td>Phillip Vandamm</td>\n",
       "      <td>3</td>\n",
       "    </tr>\n",
       "    <tr>\n",
       "      <th>2850453</th>\n",
       "      <td>North by Northwest</td>\n",
       "      <td>1959</td>\n",
       "      <td>Jessie Royce Landis</td>\n",
       "      <td>actress</td>\n",
       "      <td>Clara Thornhill</td>\n",
       "      <td>4</td>\n",
       "    </tr>\n",
       "    <tr>\n",
       "      <th>323835</th>\n",
       "      <td>North by Northwest</td>\n",
       "      <td>1959</td>\n",
       "      <td>Leo G. Carroll</td>\n",
       "      <td>actor</td>\n",
       "      <td>The Professor</td>\n",
       "      <td>5</td>\n",
       "    </tr>\n",
       "    <tr>\n",
       "      <th>2756204</th>\n",
       "      <td>North by Northwest</td>\n",
       "      <td>1959</td>\n",
       "      <td>Josephine Hutchinson</td>\n",
       "      <td>actress</td>\n",
       "      <td>Mrs. Townsend</td>\n",
       "      <td>6</td>\n",
       "    </tr>\n",
       "    <tr>\n",
       "      <th>1543808</th>\n",
       "      <td>North by Northwest</td>\n",
       "      <td>1959</td>\n",
       "      <td>Philip Ober</td>\n",
       "      <td>actor</td>\n",
       "      <td>Lester Townsend</td>\n",
       "      <td>7</td>\n",
       "    </tr>\n",
       "    <tr>\n",
       "      <th>1160305</th>\n",
       "      <td>North by Northwest</td>\n",
       "      <td>1959</td>\n",
       "      <td>Martin Landau</td>\n",
       "      <td>actor</td>\n",
       "      <td>Leonard</td>\n",
       "      <td>8</td>\n",
       "    </tr>\n",
       "    <tr>\n",
       "      <th>2225377</th>\n",
       "      <td>North by Northwest</td>\n",
       "      <td>1959</td>\n",
       "      <td>Adam Williams</td>\n",
       "      <td>actor</td>\n",
       "      <td>Valerian</td>\n",
       "      <td>9</td>\n",
       "    </tr>\n",
       "    <tr>\n",
       "      <th>1648850</th>\n",
       "      <td>North by Northwest</td>\n",
       "      <td>1959</td>\n",
       "      <td>Edward Platt</td>\n",
       "      <td>actor</td>\n",
       "      <td>Victor Larrabee</td>\n",
       "      <td>10</td>\n",
       "    </tr>\n",
       "    <tr>\n",
       "      <th>606082</th>\n",
       "      <td>North by Northwest</td>\n",
       "      <td>1959</td>\n",
       "      <td>Robert Ellenstein</td>\n",
       "      <td>actor</td>\n",
       "      <td>Licht</td>\n",
       "      <td>11</td>\n",
       "    </tr>\n",
       "    <tr>\n",
       "      <th>2087676</th>\n",
       "      <td>North by Northwest</td>\n",
       "      <td>1959</td>\n",
       "      <td>Les Tremayne</td>\n",
       "      <td>actor</td>\n",
       "      <td>Auctioneer</td>\n",
       "      <td>12</td>\n",
       "    </tr>\n",
       "    <tr>\n",
       "      <th>422290</th>\n",
       "      <td>North by Northwest</td>\n",
       "      <td>1959</td>\n",
       "      <td>Philip Coolidge</td>\n",
       "      <td>actor</td>\n",
       "      <td>Dr. Cross</td>\n",
       "      <td>13</td>\n",
       "    </tr>\n",
       "    <tr>\n",
       "      <th>1373641</th>\n",
       "      <td>North by Northwest</td>\n",
       "      <td>1959</td>\n",
       "      <td>Patrick McVey</td>\n",
       "      <td>actor</td>\n",
       "      <td>Sergeant Flamm</td>\n",
       "      <td>14</td>\n",
       "    </tr>\n",
       "    <tr>\n",
       "      <th>186182</th>\n",
       "      <td>North by Northwest</td>\n",
       "      <td>1959</td>\n",
       "      <td>Edward Binns</td>\n",
       "      <td>actor</td>\n",
       "      <td>Captain Junket</td>\n",
       "      <td>15</td>\n",
       "    </tr>\n",
       "    <tr>\n",
       "      <th>1260364</th>\n",
       "      <td>North by Northwest</td>\n",
       "      <td>1959</td>\n",
       "      <td>Ken Lynch</td>\n",
       "      <td>actor</td>\n",
       "      <td>Charley - Chicago Policeman</td>\n",
       "      <td>16</td>\n",
       "    </tr>\n",
       "  </tbody>\n",
       "</table>\n",
       "</div>"
      ],
      "text/plain": [
       "                      title  year                  name     type  \\\n",
       "793576   North by Northwest  1959            Cary Grant    actor   \n",
       "3166924  North by Northwest  1959       Eva Marie Saint  actress   \n",
       "1326397  North by Northwest  1959           James Mason    actor   \n",
       "2850453  North by Northwest  1959   Jessie Royce Landis  actress   \n",
       "323835   North by Northwest  1959        Leo G. Carroll    actor   \n",
       "2756204  North by Northwest  1959  Josephine Hutchinson  actress   \n",
       "1543808  North by Northwest  1959           Philip Ober    actor   \n",
       "1160305  North by Northwest  1959         Martin Landau    actor   \n",
       "2225377  North by Northwest  1959         Adam Williams    actor   \n",
       "1648850  North by Northwest  1959          Edward Platt    actor   \n",
       "606082   North by Northwest  1959     Robert Ellenstein    actor   \n",
       "2087676  North by Northwest  1959          Les Tremayne    actor   \n",
       "422290   North by Northwest  1959       Philip Coolidge    actor   \n",
       "1373641  North by Northwest  1959         Patrick McVey    actor   \n",
       "186182   North by Northwest  1959          Edward Binns    actor   \n",
       "1260364  North by Northwest  1959             Ken Lynch    actor   \n",
       "\n",
       "                           character   n  \n",
       "793576            Roger O. Thornhill   1  \n",
       "3166924                  Eve Kendall   2  \n",
       "1326397              Phillip Vandamm   3  \n",
       "2850453              Clara Thornhill   4  \n",
       "323835                 The Professor   5  \n",
       "2756204                Mrs. Townsend   6  \n",
       "1543808              Lester Townsend   7  \n",
       "1160305                      Leonard   8  \n",
       "2225377                     Valerian   9  \n",
       "1648850              Victor Larrabee  10  \n",
       "606082                         Licht  11  \n",
       "2087676                   Auctioneer  12  \n",
       "422290                     Dr. Cross  13  \n",
       "1373641               Sergeant Flamm  14  \n",
       "186182                Captain Junket  15  \n",
       "1260364  Charley - Chicago Policeman  16  "
      ]
     },
     "execution_count": 59,
     "metadata": {},
     "output_type": "execute_result"
    }
   ],
   "source": [
    "nbn_n.head(16)"
   ]
  },
  {
   "cell_type": "markdown",
   "metadata": {
    "collapsed": true
   },
   "source": [
    "### Display the entire cast, in \"n\"-order, of the 1972 film \"Sleuth\"."
   ]
  },
  {
   "cell_type": "code",
   "execution_count": 68,
   "metadata": {
    "collapsed": false
   },
   "outputs": [
    {
     "data": {
      "text/plain": [
       "(6, 6)"
      ]
     },
     "execution_count": 68,
     "metadata": {},
     "output_type": "execute_result"
    }
   ],
   "source": [
    "sleuth = cast[(cast.title == 'Sleuth') & (cast.year == 1972)].sort('n',ascending = True)\n",
    "sleuth.shape"
   ]
  },
  {
   "cell_type": "code",
   "execution_count": 69,
   "metadata": {
    "collapsed": false
   },
   "outputs": [
    {
     "data": {
      "text/html": [
       "<div>\n",
       "<table border=\"1\" class=\"dataframe\">\n",
       "  <thead>\n",
       "    <tr style=\"text-align: right;\">\n",
       "      <th></th>\n",
       "      <th>title</th>\n",
       "      <th>year</th>\n",
       "      <th>name</th>\n",
       "      <th>type</th>\n",
       "      <th>character</th>\n",
       "      <th>n</th>\n",
       "    </tr>\n",
       "  </thead>\n",
       "  <tbody>\n",
       "    <tr>\n",
       "      <th>1552873</th>\n",
       "      <td>Sleuth</td>\n",
       "      <td>1972</td>\n",
       "      <td>Laurence Olivier</td>\n",
       "      <td>actor</td>\n",
       "      <td>Andrew Wyke</td>\n",
       "      <td>1</td>\n",
       "    </tr>\n",
       "    <tr>\n",
       "      <th>296388</th>\n",
       "      <td>Sleuth</td>\n",
       "      <td>1972</td>\n",
       "      <td>Michael Caine</td>\n",
       "      <td>actor</td>\n",
       "      <td>Milo Tindle</td>\n",
       "      <td>2</td>\n",
       "    </tr>\n",
       "    <tr>\n",
       "      <th>339585</th>\n",
       "      <td>Sleuth</td>\n",
       "      <td>1972</td>\n",
       "      <td>Alec Cawthorne</td>\n",
       "      <td>actor</td>\n",
       "      <td>Inspector Doppler</td>\n",
       "      <td>3</td>\n",
       "    </tr>\n",
       "    <tr>\n",
       "      <th>1333868</th>\n",
       "      <td>Sleuth</td>\n",
       "      <td>1972</td>\n",
       "      <td>John (II) Matthews</td>\n",
       "      <td>actor</td>\n",
       "      <td>Detective Sergeant Tarrant</td>\n",
       "      <td>4</td>\n",
       "    </tr>\n",
       "    <tr>\n",
       "      <th>2471035</th>\n",
       "      <td>Sleuth</td>\n",
       "      <td>1972</td>\n",
       "      <td>Eve (III) Channing</td>\n",
       "      <td>actress</td>\n",
       "      <td>Marguerite Wyke</td>\n",
       "      <td>5</td>\n",
       "    </tr>\n",
       "    <tr>\n",
       "      <th>1318823</th>\n",
       "      <td>Sleuth</td>\n",
       "      <td>1972</td>\n",
       "      <td>Teddy Martin</td>\n",
       "      <td>actor</td>\n",
       "      <td>Police Constable Higgs</td>\n",
       "      <td>6</td>\n",
       "    </tr>\n",
       "  </tbody>\n",
       "</table>\n",
       "</div>"
      ],
      "text/plain": [
       "          title  year                name     type  \\\n",
       "1552873  Sleuth  1972    Laurence Olivier    actor   \n",
       "296388   Sleuth  1972       Michael Caine    actor   \n",
       "339585   Sleuth  1972      Alec Cawthorne    actor   \n",
       "1333868  Sleuth  1972  John (II) Matthews    actor   \n",
       "2471035  Sleuth  1972  Eve (III) Channing  actress   \n",
       "1318823  Sleuth  1972        Teddy Martin    actor   \n",
       "\n",
       "                          character  n  \n",
       "1552873                 Andrew Wyke  1  \n",
       "296388                  Milo Tindle  2  \n",
       "339585            Inspector Doppler  3  \n",
       "1333868  Detective Sergeant Tarrant  4  \n",
       "2471035             Marguerite Wyke  5  \n",
       "1318823      Police Constable Higgs  6  "
      ]
     },
     "execution_count": 69,
     "metadata": {},
     "output_type": "execute_result"
    }
   ],
   "source": [
    "sleuth.head(9)"
   ]
  },
  {
   "cell_type": "markdown",
   "metadata": {
    "collapsed": true
   },
   "source": [
    "### Now display the entire cast, in \"n\"-order, of the 2007 version of \"Sleuth\"."
   ]
  },
  {
   "cell_type": "code",
   "execution_count": 70,
   "metadata": {
    "collapsed": false
   },
   "outputs": [
    {
     "data": {
      "text/plain": [
       "(7, 6)"
      ]
     },
     "execution_count": 70,
     "metadata": {},
     "output_type": "execute_result"
    }
   ],
   "source": [
    "sleuth_2007 = cast[(cast.title == 'Sleuth') & (cast.year == 2007)].sort('n',ascending = True)\n",
    "sleuth_2007.shape"
   ]
  },
  {
   "cell_type": "code",
   "execution_count": 73,
   "metadata": {
    "collapsed": false
   },
   "outputs": [
    {
     "data": {
      "text/html": [
       "<div>\n",
       "<table border=\"1\" class=\"dataframe\">\n",
       "  <thead>\n",
       "    <tr style=\"text-align: right;\">\n",
       "      <th></th>\n",
       "      <th>title</th>\n",
       "      <th>year</th>\n",
       "      <th>name</th>\n",
       "      <th>type</th>\n",
       "      <th>character</th>\n",
       "      <th>n</th>\n",
       "    </tr>\n",
       "  </thead>\n",
       "  <tbody>\n",
       "    <tr>\n",
       "      <th>296389</th>\n",
       "      <td>Sleuth</td>\n",
       "      <td>2007</td>\n",
       "      <td>Michael Caine</td>\n",
       "      <td>actor</td>\n",
       "      <td>Andrew</td>\n",
       "      <td>1</td>\n",
       "    </tr>\n",
       "    <tr>\n",
       "      <th>1177201</th>\n",
       "      <td>Sleuth</td>\n",
       "      <td>2007</td>\n",
       "      <td>Jude Law</td>\n",
       "      <td>actor</td>\n",
       "      <td>Milo</td>\n",
       "      <td>2</td>\n",
       "    </tr>\n",
       "    <tr>\n",
       "      <th>1643926</th>\n",
       "      <td>Sleuth</td>\n",
       "      <td>2007</td>\n",
       "      <td>Harold Pinter</td>\n",
       "      <td>actor</td>\n",
       "      <td>Man on T.V.</td>\n",
       "      <td>3</td>\n",
       "    </tr>\n",
       "    <tr>\n",
       "      <th>235239</th>\n",
       "      <td>Sleuth</td>\n",
       "      <td>2007</td>\n",
       "      <td>Kenneth Branagh</td>\n",
       "      <td>actor</td>\n",
       "      <td>Other Man on T.V.</td>\n",
       "      <td>NaN</td>\n",
       "    </tr>\n",
       "    <tr>\n",
       "      <th>339586</th>\n",
       "      <td>Sleuth</td>\n",
       "      <td>2007</td>\n",
       "      <td>Alec (II) Cawthorne</td>\n",
       "      <td>actor</td>\n",
       "      <td>Inspector Doppler</td>\n",
       "      <td>NaN</td>\n",
       "    </tr>\n",
       "    <tr>\n",
       "      <th>2471034</th>\n",
       "      <td>Sleuth</td>\n",
       "      <td>2007</td>\n",
       "      <td>Eve (II) Channing</td>\n",
       "      <td>actress</td>\n",
       "      <td>Marguerite Wyke</td>\n",
       "      <td>NaN</td>\n",
       "    </tr>\n",
       "    <tr>\n",
       "      <th>3037760</th>\n",
       "      <td>Sleuth</td>\n",
       "      <td>2007</td>\n",
       "      <td>Carmel O'Sullivan</td>\n",
       "      <td>actress</td>\n",
       "      <td>Maggie</td>\n",
       "      <td>NaN</td>\n",
       "    </tr>\n",
       "  </tbody>\n",
       "</table>\n",
       "</div>"
      ],
      "text/plain": [
       "          title  year                 name     type          character   n\n",
       "296389   Sleuth  2007        Michael Caine    actor             Andrew   1\n",
       "1177201  Sleuth  2007             Jude Law    actor               Milo   2\n",
       "1643926  Sleuth  2007        Harold Pinter    actor        Man on T.V.   3\n",
       "235239   Sleuth  2007      Kenneth Branagh    actor  Other Man on T.V. NaN\n",
       "339586   Sleuth  2007  Alec (II) Cawthorne    actor  Inspector Doppler NaN\n",
       "2471034  Sleuth  2007    Eve (II) Channing  actress    Marguerite Wyke NaN\n",
       "3037760  Sleuth  2007    Carmel O'Sullivan  actress             Maggie NaN"
      ]
     },
     "execution_count": 73,
     "metadata": {},
     "output_type": "execute_result"
    }
   ],
   "source": [
    "sleuth_2007"
   ]
  },
  {
   "cell_type": "markdown",
   "metadata": {
    "collapsed": true
   },
   "source": [
    "### How many roles were credited in the silent 1921 version of Hamlet?"
   ]
  },
  {
   "cell_type": "code",
   "execution_count": 74,
   "metadata": {
    "collapsed": false
   },
   "outputs": [
    {
     "data": {
      "text/plain": [
       "9"
      ]
     },
     "execution_count": 74,
     "metadata": {},
     "output_type": "execute_result"
    }
   ],
   "source": [
    "silent_hamlet = cast[(cast.title == \"Hamlet\") & (cast.year == 1921)]\n",
    "len(silent_hamlet)"
   ]
  },
  {
   "cell_type": "markdown",
   "metadata": {
    "collapsed": true
   },
   "source": [
    "### How many roles were credited in Branagh’s 1996 Hamlet?"
   ]
  },
  {
   "cell_type": "code",
   "execution_count": 75,
   "metadata": {
    "collapsed": false
   },
   "outputs": [
    {
     "data": {
      "text/plain": [
       "54"
      ]
     },
     "execution_count": 75,
     "metadata": {},
     "output_type": "execute_result"
    }
   ],
   "source": [
    "hamlet_96 = cast[(cast.title == \"Hamlet\") & (cast.year == 1996)]\n",
    "len(hamlet_96)"
   ]
  },
  {
   "cell_type": "markdown",
   "metadata": {
    "collapsed": true
   },
   "source": [
    "### How many \"Hamlet\" roles have been listed in all film credits through history?"
   ]
  },
  {
   "cell_type": "code",
   "execution_count": 76,
   "metadata": {
    "collapsed": false
   },
   "outputs": [
    {
     "data": {
      "text/plain": [
       "314"
      ]
     },
     "execution_count": 76,
     "metadata": {},
     "output_type": "execute_result"
    }
   ],
   "source": [
    "hamlet = cast[(cast.title == \"Hamlet\")]\n",
    "len(hamlet)"
   ]
  },
  {
   "cell_type": "markdown",
   "metadata": {
    "collapsed": true
   },
   "source": [
    "### How many people have played an \"Ophelia\"?"
   ]
  },
  {
   "cell_type": "code",
   "execution_count": 78,
   "metadata": {
    "collapsed": false
   },
   "outputs": [
    {
     "data": {
      "text/plain": [
       "15"
      ]
     },
     "execution_count": 78,
     "metadata": {},
     "output_type": "execute_result"
    }
   ],
   "source": [
    "ophelia = hamlet[hamlet.character == 'Ophelia']\n",
    "len(ophelia)"
   ]
  },
  {
   "cell_type": "code",
   "execution_count": 79,
   "metadata": {
    "collapsed": false
   },
   "outputs": [
    {
     "data": {
      "text/plain": [
       "100"
      ]
     },
     "execution_count": 79,
     "metadata": {},
     "output_type": "execute_result"
    }
   ],
   "source": [
    "ophelia = cast[cast.character == 'Ophelia']\n",
    "len(ophelia)"
   ]
  },
  {
   "cell_type": "markdown",
   "metadata": {
    "collapsed": true
   },
   "source": [
    "### How many people have played a role called \"The Dude\"?"
   ]
  },
  {
   "cell_type": "code",
   "execution_count": 82,
   "metadata": {
    "collapsed": false
   },
   "outputs": [
    {
     "data": {
      "text/html": [
       "<div>\n",
       "<table border=\"1\" class=\"dataframe\">\n",
       "  <thead>\n",
       "    <tr style=\"text-align: right;\">\n",
       "      <th></th>\n",
       "      <th>title</th>\n",
       "      <th>year</th>\n",
       "      <th>name</th>\n",
       "      <th>type</th>\n",
       "      <th>character</th>\n",
       "      <th>n</th>\n",
       "    </tr>\n",
       "  </thead>\n",
       "  <tbody>\n",
       "    <tr>\n",
       "      <th>246218</th>\n",
       "      <td>The Big Lebowski</td>\n",
       "      <td>1998</td>\n",
       "      <td>Jeff Bridges</td>\n",
       "      <td>actor</td>\n",
       "      <td>The Dude</td>\n",
       "      <td>1</td>\n",
       "    </tr>\n",
       "    <tr>\n",
       "      <th>307990</th>\n",
       "      <td>Terms &amp; Conditions</td>\n",
       "      <td>2015</td>\n",
       "      <td>Jordan Cann</td>\n",
       "      <td>actor</td>\n",
       "      <td>The Dude</td>\n",
       "      <td>9</td>\n",
       "    </tr>\n",
       "    <tr>\n",
       "      <th>453692</th>\n",
       "      <td>Stranger</td>\n",
       "      <td>2000</td>\n",
       "      <td>Scott Crowell</td>\n",
       "      <td>actor</td>\n",
       "      <td>The Dude</td>\n",
       "      <td>NaN</td>\n",
       "    </tr>\n",
       "    <tr>\n",
       "      <th>518955</th>\n",
       "      <td>Pizza Man vs. the Dude</td>\n",
       "      <td>2004</td>\n",
       "      <td>Chris DeMarcus</td>\n",
       "      <td>actor</td>\n",
       "      <td>The Dude</td>\n",
       "      <td>NaN</td>\n",
       "    </tr>\n",
       "    <tr>\n",
       "      <th>555799</th>\n",
       "      <td>Sweepstakes</td>\n",
       "      <td>1931</td>\n",
       "      <td>Mike Donlin</td>\n",
       "      <td>actor</td>\n",
       "      <td>The Dude</td>\n",
       "      <td>12</td>\n",
       "    </tr>\n",
       "    <tr>\n",
       "      <th>573038</th>\n",
       "      <td>Self Helpless</td>\n",
       "      <td>2010</td>\n",
       "      <td>Devin The Dude</td>\n",
       "      <td>actor</td>\n",
       "      <td>The Dude</td>\n",
       "      <td>NaN</td>\n",
       "    </tr>\n",
       "    <tr>\n",
       "      <th>993356</th>\n",
       "      <td>Jay and Silent Bob Strike Back</td>\n",
       "      <td>2001</td>\n",
       "      <td>Matthew (XIX) James</td>\n",
       "      <td>actor</td>\n",
       "      <td>The Dude</td>\n",
       "      <td>37</td>\n",
       "    </tr>\n",
       "    <tr>\n",
       "      <th>1037738</th>\n",
       "      <td>Explicit Ills</td>\n",
       "      <td>2008</td>\n",
       "      <td>Christopher Kadish</td>\n",
       "      <td>actor</td>\n",
       "      <td>The Dude</td>\n",
       "      <td>27</td>\n",
       "    </tr>\n",
       "    <tr>\n",
       "      <th>1244313</th>\n",
       "      <td>American Idiots</td>\n",
       "      <td>2013</td>\n",
       "      <td>Jason Loughridge</td>\n",
       "      <td>actor</td>\n",
       "      <td>The Dude</td>\n",
       "      <td>10</td>\n",
       "    </tr>\n",
       "    <tr>\n",
       "      <th>1262052</th>\n",
       "      <td>The Winds of Autumn</td>\n",
       "      <td>1976</td>\n",
       "      <td>Steve Lyons</td>\n",
       "      <td>actor</td>\n",
       "      <td>The Dude</td>\n",
       "      <td>30</td>\n",
       "    </tr>\n",
       "    <tr>\n",
       "      <th>1377509</th>\n",
       "      <td>The Liq</td>\n",
       "      <td>2016</td>\n",
       "      <td>Mark Alan Meek</td>\n",
       "      <td>actor</td>\n",
       "      <td>The Dude</td>\n",
       "      <td>NaN</td>\n",
       "    </tr>\n",
       "    <tr>\n",
       "      <th>1403264</th>\n",
       "      <td>Wild Oats Lane</td>\n",
       "      <td>1926</td>\n",
       "      <td>Jerry Miley</td>\n",
       "      <td>actor</td>\n",
       "      <td>The Dude</td>\n",
       "      <td>6</td>\n",
       "    </tr>\n",
       "    <tr>\n",
       "      <th>1624457</th>\n",
       "      <td>Oklahoma Badlands</td>\n",
       "      <td>1948</td>\n",
       "      <td>House Peters Jr.</td>\n",
       "      <td>actor</td>\n",
       "      <td>The Dude</td>\n",
       "      <td>13</td>\n",
       "    </tr>\n",
       "    <tr>\n",
       "      <th>1673895</th>\n",
       "      <td>Hacks</td>\n",
       "      <td>1997</td>\n",
       "      <td>Jason Priestley</td>\n",
       "      <td>actor</td>\n",
       "      <td>The Dude</td>\n",
       "      <td>11</td>\n",
       "    </tr>\n",
       "    <tr>\n",
       "      <th>2003196</th>\n",
       "      <td>Carlos Spills the Beans</td>\n",
       "      <td>2012</td>\n",
       "      <td>Bobby Styles</td>\n",
       "      <td>actor</td>\n",
       "      <td>The Dude</td>\n",
       "      <td>NaN</td>\n",
       "    </tr>\n",
       "    <tr>\n",
       "      <th>2124043</th>\n",
       "      <td>Zachariah</td>\n",
       "      <td>1971</td>\n",
       "      <td>Dick Van Patten</td>\n",
       "      <td>actor</td>\n",
       "      <td>The Dude</td>\n",
       "      <td>9</td>\n",
       "    </tr>\n",
       "    <tr>\n",
       "      <th>2199681</th>\n",
       "      <td>It Can Be Arranged</td>\n",
       "      <td>2010</td>\n",
       "      <td>Joel Weiss</td>\n",
       "      <td>actor</td>\n",
       "      <td>The Dude</td>\n",
       "      <td>NaN</td>\n",
       "    </tr>\n",
       "  </tbody>\n",
       "</table>\n",
       "</div>"
      ],
      "text/plain": [
       "                                  title  year                 name   type  \\\n",
       "246218                 The Big Lebowski  1998         Jeff Bridges  actor   \n",
       "307990               Terms & Conditions  2015          Jordan Cann  actor   \n",
       "453692                         Stranger  2000        Scott Crowell  actor   \n",
       "518955           Pizza Man vs. the Dude  2004       Chris DeMarcus  actor   \n",
       "555799                      Sweepstakes  1931          Mike Donlin  actor   \n",
       "573038                    Self Helpless  2010       Devin The Dude  actor   \n",
       "993356   Jay and Silent Bob Strike Back  2001  Matthew (XIX) James  actor   \n",
       "1037738                   Explicit Ills  2008   Christopher Kadish  actor   \n",
       "1244313                 American Idiots  2013     Jason Loughridge  actor   \n",
       "1262052             The Winds of Autumn  1976          Steve Lyons  actor   \n",
       "1377509                         The Liq  2016       Mark Alan Meek  actor   \n",
       "1403264                  Wild Oats Lane  1926          Jerry Miley  actor   \n",
       "1624457               Oklahoma Badlands  1948     House Peters Jr.  actor   \n",
       "1673895                           Hacks  1997      Jason Priestley  actor   \n",
       "2003196         Carlos Spills the Beans  2012         Bobby Styles  actor   \n",
       "2124043                       Zachariah  1971      Dick Van Patten  actor   \n",
       "2199681              It Can Be Arranged  2010           Joel Weiss  actor   \n",
       "\n",
       "        character   n  \n",
       "246218   The Dude   1  \n",
       "307990   The Dude   9  \n",
       "453692   The Dude NaN  \n",
       "518955   The Dude NaN  \n",
       "555799   The Dude  12  \n",
       "573038   The Dude NaN  \n",
       "993356   The Dude  37  \n",
       "1037738  The Dude  27  \n",
       "1244313  The Dude  10  \n",
       "1262052  The Dude  30  \n",
       "1377509  The Dude NaN  \n",
       "1403264  The Dude   6  \n",
       "1624457  The Dude  13  \n",
       "1673895  The Dude  11  \n",
       "2003196  The Dude NaN  \n",
       "2124043  The Dude   9  \n",
       "2199681  The Dude NaN  "
      ]
     },
     "execution_count": 82,
     "metadata": {},
     "output_type": "execute_result"
    }
   ],
   "source": [
    "dude = cast[cast.character == 'The Dude']\n",
    "dude"
   ]
  },
  {
   "cell_type": "code",
   "execution_count": 84,
   "metadata": {
    "collapsed": false
   },
   "outputs": [
    {
     "data": {
      "text/plain": [
       "17"
      ]
     },
     "execution_count": 84,
     "metadata": {},
     "output_type": "execute_result"
    }
   ],
   "source": [
    "dude_actors = dude.name.drop_duplicates()\n",
    "len(dude_actors)"
   ]
  },
  {
   "cell_type": "markdown",
   "metadata": {
    "collapsed": true
   },
   "source": [
    "### How many people have played a role called \"The Stranger\"?"
   ]
  },
  {
   "cell_type": "code",
   "execution_count": 85,
   "metadata": {
    "collapsed": false
   },
   "outputs": [
    {
     "data": {
      "text/plain": [
       "183"
      ]
     },
     "execution_count": 85,
     "metadata": {},
     "output_type": "execute_result"
    }
   ],
   "source": [
    "stranger = cast[cast.character == 'The Stranger']\n",
    "stranger_actors = stranger.name.drop_duplicates()\n",
    "len(stranger_actors)"
   ]
  },
  {
   "cell_type": "markdown",
   "metadata": {
    "collapsed": true
   },
   "source": [
    "### How many roles has Sidney Poitier played throughout his career?"
   ]
  },
  {
   "cell_type": "code",
   "execution_count": 86,
   "metadata": {
    "collapsed": false
   },
   "outputs": [
    {
     "data": {
      "text/plain": [
       "43"
      ]
     },
     "execution_count": 86,
     "metadata": {},
     "output_type": "execute_result"
    }
   ],
   "source": [
    "len(cast[cast.name == 'Sidney Poitier'])"
   ]
  },
  {
   "cell_type": "markdown",
   "metadata": {
    "collapsed": true
   },
   "source": [
    "### How many roles has Judi Dench played?"
   ]
  },
  {
   "cell_type": "code",
   "execution_count": 88,
   "metadata": {
    "collapsed": false
   },
   "outputs": [
    {
     "data": {
      "text/plain": [
       "53"
      ]
     },
     "execution_count": 88,
     "metadata": {},
     "output_type": "execute_result"
    }
   ],
   "source": [
    "len(cast[cast.name == 'Judi Dench'])"
   ]
  },
  {
   "cell_type": "markdown",
   "metadata": {
    "collapsed": true
   },
   "source": [
    "### List the supporting roles (having n=2) played by Cary Grant in the 1940s, in order by year."
   ]
  },
  {
   "cell_type": "code",
   "execution_count": 89,
   "metadata": {
    "collapsed": false
   },
   "outputs": [
    {
     "data": {
      "text/html": [
       "<div>\n",
       "<table border=\"1\" class=\"dataframe\">\n",
       "  <thead>\n",
       "    <tr style=\"text-align: right;\">\n",
       "      <th></th>\n",
       "      <th>title</th>\n",
       "      <th>year</th>\n",
       "      <th>name</th>\n",
       "      <th>type</th>\n",
       "      <th>character</th>\n",
       "      <th>n</th>\n",
       "    </tr>\n",
       "  </thead>\n",
       "  <tbody>\n",
       "    <tr>\n",
       "      <th>793573</th>\n",
       "      <td>My Favorite Wife</td>\n",
       "      <td>1940</td>\n",
       "      <td>Cary Grant</td>\n",
       "      <td>actor</td>\n",
       "      <td>Nick</td>\n",
       "      <td>2</td>\n",
       "    </tr>\n",
       "    <tr>\n",
       "      <th>793583</th>\n",
       "      <td>Penny Serenade</td>\n",
       "      <td>1941</td>\n",
       "      <td>Cary Grant</td>\n",
       "      <td>actor</td>\n",
       "      <td>Roger Adams</td>\n",
       "      <td>2</td>\n",
       "    </tr>\n",
       "  </tbody>\n",
       "</table>\n",
       "</div>"
      ],
      "text/plain": [
       "                   title  year        name   type    character  n\n",
       "793573  My Favorite Wife  1940  Cary Grant  actor         Nick  2\n",
       "793583    Penny Serenade  1941  Cary Grant  actor  Roger Adams  2"
      ]
     },
     "execution_count": 89,
     "metadata": {},
     "output_type": "execute_result"
    }
   ],
   "source": [
    "grant_support = cast[(cast.name == 'Cary Grant') & (cast.n == 2) & (cast.year >= 1940) & (cast.year <= 1949)].sort('year',ascending =True)\n",
    "grant_support"
   ]
  },
  {
   "cell_type": "markdown",
   "metadata": {
    "collapsed": true
   },
   "source": [
    "### List the leading roles that Cary Grant played in the 1940s in order by year."
   ]
  },
  {
   "cell_type": "code",
   "execution_count": 90,
   "metadata": {
    "collapsed": false
   },
   "outputs": [
    {
     "data": {
      "text/html": [
       "<div>\n",
       "<table border=\"1\" class=\"dataframe\">\n",
       "  <thead>\n",
       "    <tr style=\"text-align: right;\">\n",
       "      <th></th>\n",
       "      <th>title</th>\n",
       "      <th>year</th>\n",
       "      <th>name</th>\n",
       "      <th>type</th>\n",
       "      <th>character</th>\n",
       "      <th>n</th>\n",
       "    </tr>\n",
       "  </thead>\n",
       "  <tbody>\n",
       "    <tr>\n",
       "      <th>793598</th>\n",
       "      <td>The Howards of Virginia</td>\n",
       "      <td>1940</td>\n",
       "      <td>Cary Grant</td>\n",
       "      <td>actor</td>\n",
       "      <td>Matt Howard</td>\n",
       "      <td>1</td>\n",
       "    </tr>\n",
       "    <tr>\n",
       "      <th>793555</th>\n",
       "      <td>His Girl Friday</td>\n",
       "      <td>1940</td>\n",
       "      <td>Cary Grant</td>\n",
       "      <td>actor</td>\n",
       "      <td>Walter Burns</td>\n",
       "      <td>1</td>\n",
       "    </tr>\n",
       "    <tr>\n",
       "      <th>793600</th>\n",
       "      <td>The Philadelphia Story</td>\n",
       "      <td>1940</td>\n",
       "      <td>Cary Grant</td>\n",
       "      <td>actor</td>\n",
       "      <td>C. K. Dexter Haven</td>\n",
       "      <td>1</td>\n",
       "    </tr>\n",
       "    <tr>\n",
       "      <th>793588</th>\n",
       "      <td>Suspicion</td>\n",
       "      <td>1941</td>\n",
       "      <td>Cary Grant</td>\n",
       "      <td>actor</td>\n",
       "      <td>Johnnie</td>\n",
       "      <td>1</td>\n",
       "    </tr>\n",
       "    <tr>\n",
       "      <th>793602</th>\n",
       "      <td>The Talk of the Town</td>\n",
       "      <td>1942</td>\n",
       "      <td>Cary Grant</td>\n",
       "      <td>actor</td>\n",
       "      <td>Leopold Dilg</td>\n",
       "      <td>1</td>\n",
       "    </tr>\n",
       "    <tr>\n",
       "      <th>793579</th>\n",
       "      <td>Once Upon a Honeymoon</td>\n",
       "      <td>1942</td>\n",
       "      <td>Cary Grant</td>\n",
       "      <td>actor</td>\n",
       "      <td>Patrick 'Pat' O'Toole</td>\n",
       "      <td>1</td>\n",
       "    </tr>\n",
       "    <tr>\n",
       "      <th>793546</th>\n",
       "      <td>Destination Tokyo</td>\n",
       "      <td>1943</td>\n",
       "      <td>Cary Grant</td>\n",
       "      <td>actor</td>\n",
       "      <td>Capt. Cassidy</td>\n",
       "      <td>1</td>\n",
       "    </tr>\n",
       "    <tr>\n",
       "      <th>793571</th>\n",
       "      <td>Mr. Lucky</td>\n",
       "      <td>1943</td>\n",
       "      <td>Cary Grant</td>\n",
       "      <td>actor</td>\n",
       "      <td>Joe Adams</td>\n",
       "      <td>1</td>\n",
       "    </tr>\n",
       "    <tr>\n",
       "      <th>793572</th>\n",
       "      <td>Mr. Lucky</td>\n",
       "      <td>1943</td>\n",
       "      <td>Cary Grant</td>\n",
       "      <td>actor</td>\n",
       "      <td>Joe Bascopolous</td>\n",
       "      <td>1</td>\n",
       "    </tr>\n",
       "    <tr>\n",
       "      <th>793580</th>\n",
       "      <td>Once Upon a Time</td>\n",
       "      <td>1944</td>\n",
       "      <td>Cary Grant</td>\n",
       "      <td>actor</td>\n",
       "      <td>Jerry Flynn</td>\n",
       "      <td>1</td>\n",
       "    </tr>\n",
       "    <tr>\n",
       "      <th>793538</th>\n",
       "      <td>Arsenic and Old Lace</td>\n",
       "      <td>1944</td>\n",
       "      <td>Cary Grant</td>\n",
       "      <td>actor</td>\n",
       "      <td>Mortimer Brewster</td>\n",
       "      <td>1</td>\n",
       "    </tr>\n",
       "    <tr>\n",
       "      <th>793575</th>\n",
       "      <td>None But the Lonely Heart</td>\n",
       "      <td>1944</td>\n",
       "      <td>Cary Grant</td>\n",
       "      <td>actor</td>\n",
       "      <td>Ernie Mott</td>\n",
       "      <td>1</td>\n",
       "    </tr>\n",
       "    <tr>\n",
       "      <th>793574</th>\n",
       "      <td>Night and Day</td>\n",
       "      <td>1946</td>\n",
       "      <td>Cary Grant</td>\n",
       "      <td>actor</td>\n",
       "      <td>Cole Porter</td>\n",
       "      <td>1</td>\n",
       "    </tr>\n",
       "    <tr>\n",
       "      <th>793577</th>\n",
       "      <td>Notorious</td>\n",
       "      <td>1946</td>\n",
       "      <td>Cary Grant</td>\n",
       "      <td>actor</td>\n",
       "      <td>Devlin</td>\n",
       "      <td>1</td>\n",
       "    </tr>\n",
       "    <tr>\n",
       "      <th>793594</th>\n",
       "      <td>The Bachelor and the Bobby-Soxer</td>\n",
       "      <td>1947</td>\n",
       "      <td>Cary Grant</td>\n",
       "      <td>actor</td>\n",
       "      <td>Dick Nugent</td>\n",
       "      <td>1</td>\n",
       "    </tr>\n",
       "    <tr>\n",
       "      <th>793595</th>\n",
       "      <td>The Bishop's Wife</td>\n",
       "      <td>1947</td>\n",
       "      <td>Cary Grant</td>\n",
       "      <td>actor</td>\n",
       "      <td>Dudley</td>\n",
       "      <td>1</td>\n",
       "    </tr>\n",
       "    <tr>\n",
       "      <th>793570</th>\n",
       "      <td>Mr. Blandings Builds His Dream House</td>\n",
       "      <td>1948</td>\n",
       "      <td>Cary Grant</td>\n",
       "      <td>actor</td>\n",
       "      <td>Jim Blandings</td>\n",
       "      <td>1</td>\n",
       "    </tr>\n",
       "    <tr>\n",
       "      <th>793550</th>\n",
       "      <td>Every Girl Should Be Married</td>\n",
       "      <td>1948</td>\n",
       "      <td>Cary Grant</td>\n",
       "      <td>actor</td>\n",
       "      <td>Dr. Madison Brown</td>\n",
       "      <td>1</td>\n",
       "    </tr>\n",
       "    <tr>\n",
       "      <th>793559</th>\n",
       "      <td>I Was a Male War Bride</td>\n",
       "      <td>1949</td>\n",
       "      <td>Cary Grant</td>\n",
       "      <td>actor</td>\n",
       "      <td>Capt. Henri Rochard</td>\n",
       "      <td>1</td>\n",
       "    </tr>\n",
       "  </tbody>\n",
       "</table>\n",
       "</div>"
      ],
      "text/plain": [
       "                                       title  year        name   type  \\\n",
       "793598               The Howards of Virginia  1940  Cary Grant  actor   \n",
       "793555                       His Girl Friday  1940  Cary Grant  actor   \n",
       "793600                The Philadelphia Story  1940  Cary Grant  actor   \n",
       "793588                             Suspicion  1941  Cary Grant  actor   \n",
       "793602                  The Talk of the Town  1942  Cary Grant  actor   \n",
       "793579                 Once Upon a Honeymoon  1942  Cary Grant  actor   \n",
       "793546                     Destination Tokyo  1943  Cary Grant  actor   \n",
       "793571                             Mr. Lucky  1943  Cary Grant  actor   \n",
       "793572                             Mr. Lucky  1943  Cary Grant  actor   \n",
       "793580                      Once Upon a Time  1944  Cary Grant  actor   \n",
       "793538                  Arsenic and Old Lace  1944  Cary Grant  actor   \n",
       "793575             None But the Lonely Heart  1944  Cary Grant  actor   \n",
       "793574                         Night and Day  1946  Cary Grant  actor   \n",
       "793577                             Notorious  1946  Cary Grant  actor   \n",
       "793594      The Bachelor and the Bobby-Soxer  1947  Cary Grant  actor   \n",
       "793595                     The Bishop's Wife  1947  Cary Grant  actor   \n",
       "793570  Mr. Blandings Builds His Dream House  1948  Cary Grant  actor   \n",
       "793550          Every Girl Should Be Married  1948  Cary Grant  actor   \n",
       "793559                I Was a Male War Bride  1949  Cary Grant  actor   \n",
       "\n",
       "                    character  n  \n",
       "793598            Matt Howard  1  \n",
       "793555           Walter Burns  1  \n",
       "793600     C. K. Dexter Haven  1  \n",
       "793588                Johnnie  1  \n",
       "793602           Leopold Dilg  1  \n",
       "793579  Patrick 'Pat' O'Toole  1  \n",
       "793546          Capt. Cassidy  1  \n",
       "793571              Joe Adams  1  \n",
       "793572        Joe Bascopolous  1  \n",
       "793580            Jerry Flynn  1  \n",
       "793538      Mortimer Brewster  1  \n",
       "793575             Ernie Mott  1  \n",
       "793574            Cole Porter  1  \n",
       "793577                 Devlin  1  \n",
       "793594            Dick Nugent  1  \n",
       "793595                 Dudley  1  \n",
       "793570          Jim Blandings  1  \n",
       "793550      Dr. Madison Brown  1  \n",
       "793559    Capt. Henri Rochard  1  "
      ]
     },
     "execution_count": 90,
     "metadata": {},
     "output_type": "execute_result"
    }
   ],
   "source": [
    "grant_lead = cast[(cast.name == 'Cary Grant') & (cast.n == 1) & (cast.year >= 1940) & (cast.year <= 1949)].sort('year',ascending =True)\n",
    "grant_lead"
   ]
  },
  {
   "cell_type": "markdown",
   "metadata": {
    "collapsed": true
   },
   "source": [
    "### How many roles were available for actors in the 1950s?"
   ]
  },
  {
   "cell_type": "code",
   "execution_count": 93,
   "metadata": {
    "collapsed": false
   },
   "outputs": [
    {
     "data": {
      "text/plain": [
       "151217"
      ]
     },
     "execution_count": 93,
     "metadata": {},
     "output_type": "execute_result"
    }
   ],
   "source": [
    "actors_fifties = cast[(cast['type'] == 'actor') & (cast.year >= 1950) & (cast.year <=1959)]\n",
    "len(actors_fifties)"
   ]
  },
  {
   "cell_type": "markdown",
   "metadata": {
    "collapsed": true
   },
   "source": [
    "### How many roles were avilable for actresses in the 1950s?"
   ]
  },
  {
   "cell_type": "code",
   "execution_count": 94,
   "metadata": {
    "collapsed": false
   },
   "outputs": [
    {
     "data": {
      "text/plain": [
       "54953"
      ]
     },
     "execution_count": 94,
     "metadata": {},
     "output_type": "execute_result"
    }
   ],
   "source": [
    "actresses_fifties = cast[(cast['type'] == 'actress') & (cast.year >= 1950) & (cast.year <=1959)]\n",
    "len(actresses_fifties)"
   ]
  },
  {
   "cell_type": "markdown",
   "metadata": {
    "collapsed": true
   },
   "source": [
    "### How many leading roles (n=1) were available from the beginning of film history through 1980?"
   ]
  },
  {
   "cell_type": "code",
   "execution_count": 95,
   "metadata": {
    "collapsed": false
   },
   "outputs": [
    {
     "data": {
      "text/plain": [
       "62356"
      ]
     },
     "execution_count": 95,
     "metadata": {},
     "output_type": "execute_result"
    }
   ],
   "source": [
    "len(cast[(cast.n ==1)&(cast.year <=1980)])"
   ]
  },
  {
   "cell_type": "markdown",
   "metadata": {
    "collapsed": true
   },
   "source": [
    "### How many non-leading roles were available through from the beginning of film history through 1980?"
   ]
  },
  {
   "cell_type": "code",
   "execution_count": 96,
   "metadata": {
    "collapsed": false
   },
   "outputs": [
    {
     "data": {
      "text/plain": [
       "1068077"
      ]
     },
     "execution_count": 96,
     "metadata": {},
     "output_type": "execute_result"
    }
   ],
   "source": [
    "len(cast[(cast.n !=1)&(cast.year <=1980)])"
   ]
  },
  {
   "cell_type": "markdown",
   "metadata": {
    "collapsed": true
   },
   "source": [
    "### How many roles through 1980 were minor enough that they did not warrant a numeric \"n\" rank?"
   ]
  },
  {
   "cell_type": "code",
   "execution_count": 97,
   "metadata": {
    "collapsed": false
   },
   "outputs": [
    {
     "data": {
      "text/plain": [
       "425953"
      ]
     },
     "execution_count": 97,
     "metadata": {},
     "output_type": "execute_result"
    }
   ],
   "source": [
    "len(cast[(cast.n.isnull())&(cast.year <=1980)])"
   ]
  }
 ],
 "metadata": {
  "kernelspec": {
   "display_name": "Python 3",
   "language": "python",
   "name": "python3"
  },
  "language_info": {
   "codemirror_mode": {
    "name": "ipython",
    "version": 3
   },
   "file_extension": ".py",
   "mimetype": "text/x-python",
   "name": "python",
   "nbconvert_exporter": "python",
   "pygments_lexer": "ipython3",
   "version": "3.4.4"
  }
 },
 "nbformat": 4,
 "nbformat_minor": 0
}
