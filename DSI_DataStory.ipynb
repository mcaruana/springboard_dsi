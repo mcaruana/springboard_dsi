{
 "cells": [
  {
   "cell_type": "markdown",
   "metadata": {},
   "source": [
    "# Springboard Data Science Intensive Data Story: James Dolan & The Knicks"
   ]
  },
  {
   "cell_type": "markdown",
   "metadata": {},
   "source": [
    "For my Data Story project, I've decided to take Fivethirtyeight's NBA Elo Ratings and examine how the Knicks have fared since James Dolan took over in 1999. The source data comes from Fivethirtyeight's GitHub page."
   ]
  },
  {
   "cell_type": "code",
   "execution_count": 97,
   "metadata": {
    "collapsed": false
   },
   "outputs": [],
   "source": [
    "%matplotlib inline\n",
    "import matplotlib.pyplot as plt\n",
    "import pandas as pd\n",
    "import datetime as datetime\n",
    "import numpy as np\n",
    "import seaborn as sns"
   ]
  },
  {
   "cell_type": "code",
   "execution_count": 98,
   "metadata": {
    "collapsed": false
   },
   "outputs": [
    {
     "data": {
      "text/plain": [
       "array(['gameorder', 'game_id', 'lg_id', '_iscopy', 'year_id', 'date_game',\n",
       "       'seasongame', 'is_playoffs', 'team_id', 'fran_id', 'pts', 'elo_i',\n",
       "       'elo_n', 'win_equiv', 'opp_id', 'opp_fran', 'opp_pts', 'opp_elo_i',\n",
       "       'opp_elo_n', 'game_location', 'game_result', 'forecast', 'notes'], dtype=object)"
      ]
     },
     "execution_count": 98,
     "metadata": {},
     "output_type": "execute_result"
    }
   ],
   "source": [
    "data = pd.read_csv(r'/Users/michaelcaruana/Desktop/springboard_dsi/nbaallelo.csv')\n",
    "data['date_game'] = pd.to_datetime(data.date_game,format = '%m/%d/%Y')\n",
    "data.columns.unique()"
   ]
  },
  {
   "cell_type": "code",
   "execution_count": 99,
   "metadata": {
    "collapsed": false
   },
   "outputs": [
    {
     "data": {
      "text/html": [
       "<div>\n",
       "<table border=\"1\" class=\"dataframe\">\n",
       "  <thead>\n",
       "    <tr style=\"text-align: right;\">\n",
       "      <th></th>\n",
       "      <th>gameorder</th>\n",
       "      <th>game_id</th>\n",
       "      <th>lg_id</th>\n",
       "      <th>_iscopy</th>\n",
       "      <th>year_id</th>\n",
       "      <th>date_game</th>\n",
       "      <th>seasongame</th>\n",
       "      <th>is_playoffs</th>\n",
       "      <th>team_id</th>\n",
       "      <th>fran_id</th>\n",
       "      <th>...</th>\n",
       "      <th>win_equiv</th>\n",
       "      <th>opp_id</th>\n",
       "      <th>opp_fran</th>\n",
       "      <th>opp_pts</th>\n",
       "      <th>opp_elo_i</th>\n",
       "      <th>opp_elo_n</th>\n",
       "      <th>game_location</th>\n",
       "      <th>game_result</th>\n",
       "      <th>forecast</th>\n",
       "      <th>notes</th>\n",
       "    </tr>\n",
       "  </thead>\n",
       "  <tbody>\n",
       "    <tr>\n",
       "      <th>85236</th>\n",
       "      <td>42619</td>\n",
       "      <td>199911020NYK</td>\n",
       "      <td>NBA</td>\n",
       "      <td>0</td>\n",
       "      <td>2000</td>\n",
       "      <td>1999-11-02</td>\n",
       "      <td>1</td>\n",
       "      <td>0</td>\n",
       "      <td>NYK</td>\n",
       "      <td>Knicks</td>\n",
       "      <td>...</td>\n",
       "      <td>50.849915</td>\n",
       "      <td>CLE</td>\n",
       "      <td>Cavaliers</td>\n",
       "      <td>84</td>\n",
       "      <td>1468.3152</td>\n",
       "      <td>1464.9763</td>\n",
       "      <td>H</td>\n",
       "      <td>W</td>\n",
       "      <td>0.783293</td>\n",
       "      <td>NaN</td>\n",
       "    </tr>\n",
       "    <tr>\n",
       "      <th>85251</th>\n",
       "      <td>42626</td>\n",
       "      <td>199911030CHI</td>\n",
       "      <td>NBA</td>\n",
       "      <td>1</td>\n",
       "      <td>2000</td>\n",
       "      <td>1999-11-03</td>\n",
       "      <td>2</td>\n",
       "      <td>0</td>\n",
       "      <td>NYK</td>\n",
       "      <td>Knicks</td>\n",
       "      <td>...</td>\n",
       "      <td>51.524223</td>\n",
       "      <td>CHI</td>\n",
       "      <td>Bulls</td>\n",
       "      <td>74</td>\n",
       "      <td>1392.7284</td>\n",
       "      <td>1385.8768</td>\n",
       "      <td>A</td>\n",
       "      <td>W</td>\n",
       "      <td>0.642907</td>\n",
       "      <td>NaN</td>\n",
       "    </tr>\n",
       "    <tr>\n",
       "      <th>85279</th>\n",
       "      <td>42640</td>\n",
       "      <td>199911050DET</td>\n",
       "      <td>NBA</td>\n",
       "      <td>1</td>\n",
       "      <td>2000</td>\n",
       "      <td>1999-11-05</td>\n",
       "      <td>3</td>\n",
       "      <td>0</td>\n",
       "      <td>NYK</td>\n",
       "      <td>Knicks</td>\n",
       "      <td>...</td>\n",
       "      <td>52.891933</td>\n",
       "      <td>DET</td>\n",
       "      <td>Pistons</td>\n",
       "      <td>91</td>\n",
       "      <td>1556.9680</td>\n",
       "      <td>1542.8743</td>\n",
       "      <td>A</td>\n",
       "      <td>W</td>\n",
       "      <td>0.421164</td>\n",
       "      <td>NaN</td>\n",
       "    </tr>\n",
       "    <tr>\n",
       "      <th>85295</th>\n",
       "      <td>42648</td>\n",
       "      <td>199911060CLE</td>\n",
       "      <td>NBA</td>\n",
       "      <td>1</td>\n",
       "      <td>2000</td>\n",
       "      <td>1999-11-06</td>\n",
       "      <td>4</td>\n",
       "      <td>0</td>\n",
       "      <td>NYK</td>\n",
       "      <td>Knicks</td>\n",
       "      <td>...</td>\n",
       "      <td>51.829468</td>\n",
       "      <td>CLE</td>\n",
       "      <td>Cavaliers</td>\n",
       "      <td>102</td>\n",
       "      <td>1482.0874</td>\n",
       "      <td>1493.0594</td>\n",
       "      <td>A</td>\n",
       "      <td>L</td>\n",
       "      <td>0.548393</td>\n",
       "      <td>NaN</td>\n",
       "    </tr>\n",
       "    <tr>\n",
       "      <th>85327</th>\n",
       "      <td>42664</td>\n",
       "      <td>199911080NYK</td>\n",
       "      <td>NBA</td>\n",
       "      <td>0</td>\n",
       "      <td>2000</td>\n",
       "      <td>1999-11-08</td>\n",
       "      <td>5</td>\n",
       "      <td>0</td>\n",
       "      <td>NYK</td>\n",
       "      <td>Knicks</td>\n",
       "      <td>...</td>\n",
       "      <td>52.329735</td>\n",
       "      <td>MIL</td>\n",
       "      <td>Bucks</td>\n",
       "      <td>101</td>\n",
       "      <td>1541.0953</td>\n",
       "      <td>1535.9503</td>\n",
       "      <td>H</td>\n",
       "      <td>W</td>\n",
       "      <td>0.719632</td>\n",
       "      <td>NaN</td>\n",
       "    </tr>\n",
       "  </tbody>\n",
       "</table>\n",
       "<p>5 rows × 23 columns</p>\n",
       "</div>"
      ],
      "text/plain": [
       "       gameorder       game_id lg_id  _iscopy  year_id  date_game  seasongame  \\\n",
       "85236      42619  199911020NYK   NBA        0     2000 1999-11-02           1   \n",
       "85251      42626  199911030CHI   NBA        1     2000 1999-11-03           2   \n",
       "85279      42640  199911050DET   NBA        1     2000 1999-11-05           3   \n",
       "85295      42648  199911060CLE   NBA        1     2000 1999-11-06           4   \n",
       "85327      42664  199911080NYK   NBA        0     2000 1999-11-08           5   \n",
       "\n",
       "       is_playoffs team_id fran_id  ...   win_equiv  opp_id   opp_fran  \\\n",
       "85236            0     NYK  Knicks  ...   50.849915     CLE  Cavaliers   \n",
       "85251            0     NYK  Knicks  ...   51.524223     CHI      Bulls   \n",
       "85279            0     NYK  Knicks  ...   52.891933     DET    Pistons   \n",
       "85295            0     NYK  Knicks  ...   51.829468     CLE  Cavaliers   \n",
       "85327            0     NYK  Knicks  ...   52.329735     MIL      Bucks   \n",
       "\n",
       "       opp_pts  opp_elo_i  opp_elo_n  game_location  game_result  forecast  \\\n",
       "85236       84  1468.3152  1464.9763              H            W  0.783293   \n",
       "85251       74  1392.7284  1385.8768              A            W  0.642907   \n",
       "85279       91  1556.9680  1542.8743              A            W  0.421164   \n",
       "85295      102  1482.0874  1493.0594              A            L  0.548393   \n",
       "85327      101  1541.0953  1535.9503              H            W  0.719632   \n",
       "\n",
       "      notes  \n",
       "85236   NaN  \n",
       "85251   NaN  \n",
       "85279   NaN  \n",
       "85295   NaN  \n",
       "85327   NaN  \n",
       "\n",
       "[5 rows x 23 columns]"
      ]
     },
     "execution_count": 99,
     "metadata": {},
     "output_type": "execute_result"
    }
   ],
   "source": [
    "knicks_dolan = data[(data.date_game >= '1999-07-01') & (data.team_id == 'NYK')]\n",
    "knicks_dolan.head()"
   ]
  },
  {
   "cell_type": "code",
   "execution_count": 100,
   "metadata": {
    "collapsed": true
   },
   "outputs": [],
   "source": [
    "knicks_dolan_elo = knicks_dolan.loc[:,['game_id','date_game','is_playoffs','team_id','elo_i','elo_n','year_id']]"
   ]
  },
  {
   "cell_type": "code",
   "execution_count": 101,
   "metadata": {
    "collapsed": false
   },
   "outputs": [
    {
     "data": {
      "text/html": [
       "<div>\n",
       "<table border=\"1\" class=\"dataframe\">\n",
       "  <thead>\n",
       "    <tr style=\"text-align: right;\">\n",
       "      <th></th>\n",
       "      <th>game_id</th>\n",
       "      <th>date_game</th>\n",
       "      <th>is_playoffs</th>\n",
       "      <th>team_id</th>\n",
       "      <th>elo_i</th>\n",
       "      <th>elo_n</th>\n",
       "      <th>year_id</th>\n",
       "    </tr>\n",
       "  </thead>\n",
       "  <tbody>\n",
       "    <tr>\n",
       "      <th>85236</th>\n",
       "      <td>199911020NYK</td>\n",
       "      <td>1999-11-02</td>\n",
       "      <td>0</td>\n",
       "      <td>NYK</td>\n",
       "      <td>1591.5360</td>\n",
       "      <td>1594.8749</td>\n",
       "      <td>2000</td>\n",
       "    </tr>\n",
       "    <tr>\n",
       "      <th>85251</th>\n",
       "      <td>199911030CHI</td>\n",
       "      <td>1999-11-03</td>\n",
       "      <td>0</td>\n",
       "      <td>NYK</td>\n",
       "      <td>1594.8749</td>\n",
       "      <td>1601.7264</td>\n",
       "      <td>2000</td>\n",
       "    </tr>\n",
       "    <tr>\n",
       "      <th>85279</th>\n",
       "      <td>199911050DET</td>\n",
       "      <td>1999-11-05</td>\n",
       "      <td>0</td>\n",
       "      <td>NYK</td>\n",
       "      <td>1601.7264</td>\n",
       "      <td>1615.8202</td>\n",
       "      <td>2000</td>\n",
       "    </tr>\n",
       "    <tr>\n",
       "      <th>85295</th>\n",
       "      <td>199911060CLE</td>\n",
       "      <td>1999-11-06</td>\n",
       "      <td>0</td>\n",
       "      <td>NYK</td>\n",
       "      <td>1615.8202</td>\n",
       "      <td>1604.8481</td>\n",
       "      <td>2000</td>\n",
       "    </tr>\n",
       "    <tr>\n",
       "      <th>85327</th>\n",
       "      <td>199911080NYK</td>\n",
       "      <td>1999-11-08</td>\n",
       "      <td>0</td>\n",
       "      <td>NYK</td>\n",
       "      <td>1604.8481</td>\n",
       "      <td>1609.9932</td>\n",
       "      <td>2000</td>\n",
       "    </tr>\n",
       "  </tbody>\n",
       "</table>\n",
       "</div>"
      ],
      "text/plain": [
       "            game_id  date_game  is_playoffs team_id      elo_i      elo_n  \\\n",
       "85236  199911020NYK 1999-11-02            0     NYK  1591.5360  1594.8749   \n",
       "85251  199911030CHI 1999-11-03            0     NYK  1594.8749  1601.7264   \n",
       "85279  199911050DET 1999-11-05            0     NYK  1601.7264  1615.8202   \n",
       "85295  199911060CLE 1999-11-06            0     NYK  1615.8202  1604.8481   \n",
       "85327  199911080NYK 1999-11-08            0     NYK  1604.8481  1609.9932   \n",
       "\n",
       "       year_id  \n",
       "85236     2000  \n",
       "85251     2000  \n",
       "85279     2000  \n",
       "85295     2000  \n",
       "85327     2000  "
      ]
     },
     "execution_count": 101,
     "metadata": {},
     "output_type": "execute_result"
    }
   ],
   "source": [
    "knicks_dolan_elo.head()"
   ]
  },
  {
   "cell_type": "code",
   "execution_count": 104,
   "metadata": {
    "collapsed": false
   },
   "outputs": [
    {
     "data": {
      "text/html": [
       "<div>\n",
       "<table border=\"1\" class=\"dataframe\">\n",
       "  <thead>\n",
       "    <tr style=\"text-align: right;\">\n",
       "      <th></th>\n",
       "      <th>game_id</th>\n",
       "      <th>date_game</th>\n",
       "      <th>is_playoffs</th>\n",
       "      <th>team_id</th>\n",
       "      <th>elo_i</th>\n",
       "      <th>elo_n</th>\n",
       "      <th>year_id</th>\n",
       "      <th>indexed</th>\n",
       "    </tr>\n",
       "  </thead>\n",
       "  <tbody>\n",
       "    <tr>\n",
       "      <th>85236</th>\n",
       "      <td>199911020NYK</td>\n",
       "      <td>1999-11-02</td>\n",
       "      <td>0</td>\n",
       "      <td>NYK</td>\n",
       "      <td>1591.5360</td>\n",
       "      <td>1594.8749</td>\n",
       "      <td>2000</td>\n",
       "      <td>1.000000</td>\n",
       "    </tr>\n",
       "    <tr>\n",
       "      <th>85251</th>\n",
       "      <td>199911030CHI</td>\n",
       "      <td>1999-11-03</td>\n",
       "      <td>0</td>\n",
       "      <td>NYK</td>\n",
       "      <td>1594.8749</td>\n",
       "      <td>1601.7264</td>\n",
       "      <td>2000</td>\n",
       "      <td>1.002098</td>\n",
       "    </tr>\n",
       "    <tr>\n",
       "      <th>85279</th>\n",
       "      <td>199911050DET</td>\n",
       "      <td>1999-11-05</td>\n",
       "      <td>0</td>\n",
       "      <td>NYK</td>\n",
       "      <td>1601.7264</td>\n",
       "      <td>1615.8202</td>\n",
       "      <td>2000</td>\n",
       "      <td>1.006403</td>\n",
       "    </tr>\n",
       "    <tr>\n",
       "      <th>85295</th>\n",
       "      <td>199911060CLE</td>\n",
       "      <td>1999-11-06</td>\n",
       "      <td>0</td>\n",
       "      <td>NYK</td>\n",
       "      <td>1615.8202</td>\n",
       "      <td>1604.8481</td>\n",
       "      <td>2000</td>\n",
       "      <td>1.015258</td>\n",
       "    </tr>\n",
       "    <tr>\n",
       "      <th>85327</th>\n",
       "      <td>199911080NYK</td>\n",
       "      <td>1999-11-08</td>\n",
       "      <td>0</td>\n",
       "      <td>NYK</td>\n",
       "      <td>1604.8481</td>\n",
       "      <td>1609.9932</td>\n",
       "      <td>2000</td>\n",
       "      <td>1.008364</td>\n",
       "    </tr>\n",
       "  </tbody>\n",
       "</table>\n",
       "</div>"
      ],
      "text/plain": [
       "            game_id  date_game  is_playoffs team_id      elo_i      elo_n  \\\n",
       "85236  199911020NYK 1999-11-02            0     NYK  1591.5360  1594.8749   \n",
       "85251  199911030CHI 1999-11-03            0     NYK  1594.8749  1601.7264   \n",
       "85279  199911050DET 1999-11-05            0     NYK  1601.7264  1615.8202   \n",
       "85295  199911060CLE 1999-11-06            0     NYK  1615.8202  1604.8481   \n",
       "85327  199911080NYK 1999-11-08            0     NYK  1604.8481  1609.9932   \n",
       "\n",
       "       year_id   indexed  \n",
       "85236     2000  1.000000  \n",
       "85251     2000  1.002098  \n",
       "85279     2000  1.006403  \n",
       "85295     2000  1.015258  \n",
       "85327     2000  1.008364  "
      ]
     },
     "execution_count": 104,
     "metadata": {},
     "output_type": "execute_result"
    }
   ],
   "source": [
    "knicks_dolan_elo['indexed'] = knicks_dolan_elo.elo_n/knicks_dolan_elo.elo_i.iloc[0]\n",
    "knicks_dolan_elo['indexed'] = knicks_dolan_elo['indexed'].shift(1).fillna(1)\n",
    "knicks_dolan_elo.head()"
   ]
  },
  {
   "cell_type": "code",
   "execution_count": 105,
   "metadata": {
    "collapsed": false
   },
   "outputs": [
    {
     "data": {
      "text/plain": [
       "[<matplotlib.lines.Line2D at 0x1126695f8>]"
      ]
     },
     "execution_count": 105,
     "metadata": {},
     "output_type": "execute_result"
    },
    {
     "data": {
      "image/png": "[encoded data removed]",
      "text/plain": [
       "<matplotlib.figure.Figure at 0x10f166128>"
      ]
     },
     "metadata": {},
     "output_type": "display_data"
    }
   ],
   "source": [
    "plt.plot(sns.set_style(\"darkgrid\")\n",
    "bar_plot = sns.barplot(x=budget[\"detail\"],y=budget[\"amount\"],\n",
    "                        palette=\"muted\",\n",
    "                        x_order=budget[\"detail\"].tolist()).date_game,knicks_dolan_elo.indexed)"
   ]
  },
  {
   "cell_type": "code",
   "execution_count": 119,
   "metadata": {
    "collapsed": false
   },
   "outputs": [
    {
     "ename": "TypeError",
     "evalue": "boxplot() missing 1 required positional argument: 'vals'",
     "output_type": "error",
     "traceback": [
      "\u001b[0;31m---------------------------------------------------------------------------\u001b[0m",
      "\u001b[0;31mTypeError\u001b[0m                                 Traceback (most recent call last)",
      "\u001b[0;32m<ipython-input-119-7cb3377750be>\u001b[0m in \u001b[0;36m<module>\u001b[0;34m()\u001b[0m\n\u001b[1;32m      1\u001b[0m \u001b[0msns\u001b[0m\u001b[0;34m.\u001b[0m\u001b[0mset_style\u001b[0m\u001b[0;34m(\u001b[0m\u001b[0;34m\"darkgrid\"\u001b[0m\u001b[0;34m)\u001b[0m\u001b[0;34m\u001b[0m\u001b[0m\n\u001b[0;32m----> 2\u001b[0;31m \u001b[0mboxplot\u001b[0m \u001b[0;34m=\u001b[0m \u001b[0msns\u001b[0m\u001b[0;34m.\u001b[0m\u001b[0mboxplot\u001b[0m\u001b[0;34m(\u001b[0m\u001b[0mx\u001b[0m\u001b[0;34m=\u001b[0m\u001b[0mknicks_dolan_elo\u001b[0m\u001b[0;34m[\u001b[0m\u001b[0;34m\"team_id\"\u001b[0m\u001b[0;34m]\u001b[0m\u001b[0;34m,\u001b[0m\u001b[0my\u001b[0m\u001b[0;34m=\u001b[0m\u001b[0mknicks_dolan_elo\u001b[0m\u001b[0;34m[\u001b[0m\u001b[0;34m\"indexed\"\u001b[0m\u001b[0;34m]\u001b[0m\u001b[0;34m,\u001b[0m\u001b[0mpalette\u001b[0m\u001b[0;34m=\u001b[0m\u001b[0;34m\"muted\"\u001b[0m\u001b[0;34m)\u001b[0m\u001b[0;34m\u001b[0m\u001b[0m\n\u001b[0m",
      "\u001b[0;31mTypeError\u001b[0m: boxplot() missing 1 required positional argument: 'vals'"
     ]
    }
   ],
   "source": [
    "sns.set_style(\"darkgrid\")\n",
    "boxplot = sns.boxplot(x=knicks_dolan_elo[\"team_id\"],y=knicks_dolan_elo[\"indexed\"],palette=\"muted\")"
   ]
  },
  {
   "cell_type": "code",
   "execution_count": null,
   "metadata": {
    "collapsed": true
   },
   "outputs": [],
   "source": []
  }
 ],
 "metadata": {
  "kernelspec": {
   "display_name": "Python 3",
   "language": "python",
   "name": "python3"
  },
  "language_info": {
   "codemirror_mode": {
    "name": "ipython",
    "version": 3
   },
   "file_extension": ".py",
   "mimetype": "text/x-python",
   "name": "python",
   "nbconvert_exporter": "python",
   "pygments_lexer": "ipython3",
   "version": "3.4.4"
  }
 },
 "nbformat": 4,
 "nbformat_minor": 0
}
